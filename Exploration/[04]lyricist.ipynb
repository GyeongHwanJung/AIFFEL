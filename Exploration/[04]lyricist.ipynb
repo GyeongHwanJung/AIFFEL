{
 "cells": [
  {
   "cell_type": "markdown",
   "id": "e98cc426",
   "metadata": {},
   "source": [
    "# 멋진 작사가 만들기!"
   ]
  },
  {
   "cell_type": "markdown",
   "id": "9f03a6b1",
   "metadata": {},
   "source": [
    "# 1. 데이터 다운로드, 읽어오기"
   ]
  },
  {
   "cell_type": "code",
   "execution_count": 3,
   "id": "b10b8a97",
   "metadata": {},
   "outputs": [
    {
     "name": "stdout",
     "output_type": "stream",
     "text": [
      "데이터 크기: 187088\n",
      "Examples:\n",
      " [\"Now I've heard there was a secret chord\", 'That David played, and it pleased the Lord', \"But you don't really care for music, do you?\"]\n"
     ]
    }
   ],
   "source": [
    "import glob\n",
    "import os, re \n",
    "import numpy as np\n",
    "import tensorflow as tf\n",
    "\n",
    "txt_file_path = os.getenv('HOME')+'/aiffel/lyricist/data/lyrics/*'\n",
    "\n",
    "txt_list = glob.glob(txt_file_path)\n",
    "\n",
    "raw_corpus = []\n",
    "\n",
    "# 여러개의 txt 파일을 모두 읽어서 raw_corpus 에 담습니다.\n",
    "for txt_file in txt_list:\n",
    "    with open(txt_file, \"r\") as f:\n",
    "        raw = f.read().splitlines()\n",
    "        raw_corpus.extend(raw)\n",
    "\n",
    "print(\"데이터 크기:\", len(raw_corpus))\n",
    "print(\"Examples:\\n\", raw_corpus[:3])"
   ]
  },
  {
   "cell_type": "markdown",
   "id": "8836f81a",
   "metadata": {},
   "source": [
    "# 2. 데이터 정제하기"
   ]
  },
  {
   "cell_type": "code",
   "execution_count": 4,
   "id": "f4ba9cfd",
   "metadata": {},
   "outputs": [],
   "source": [
    "#     1. 소문자로 바꾸고, 양쪽 공백을 지웁니다\n",
    "#     2. 특수문자 양쪽에 공백을 넣고\n",
    "#     3. 여러개의 공백은 하나의 공백으로 바꿉니다\n",
    "#     4. a-zA-Z?.!,¿가 아닌 모든 문자를 하나의 공백으로 바꿉니다\n",
    "#     5. 다시 양쪽 공백을 지웁니다\n",
    "#     6. 문장 시작에는 <start>, 끝에는 <end>를 추가합니다\n",
    "def preprocess_sentence(sentence):\n",
    "    sentence = sentence.lower().strip() # 1\n",
    "    sentence = re.sub(r\"([?.!,¿])\", r\" \\1 \", sentence) # 2\n",
    "    sentence = re.sub(r'[\" \"]+', \" \", sentence) # 3\n",
    "    sentence = re.sub(r\"[^a-zA-Z?.!,¿]+\", \" \", sentence) # 4\n",
    "    sentence = sentence.strip() # 5\n",
    "    sentence = '<start> ' + sentence + ' <end>' # 6\n",
    "    return sentence"
   ]
  },
  {
   "cell_type": "code",
   "execution_count": 5,
   "id": "9199c81a",
   "metadata": {},
   "outputs": [
    {
     "data": {
      "text/plain": [
       "['<start> now i ve heard there was a secret chord <end>',\n",
       " '<start> that david played , and it pleased the lord <end>',\n",
       " '<start> but you don t really care for music , do you ? <end>',\n",
       " '<start> it goes like this <end>',\n",
       " '<start> the fourth , the fifth <end>',\n",
       " '<start> the minor fall , the major lift <end>',\n",
       " '<start> the baffled king composing hallelujah hallelujah <end>',\n",
       " '<start> hallelujah <end>',\n",
       " '<start> hallelujah <end>',\n",
       " '<start> hallelujah your faith was strong but you needed proof <end>']"
      ]
     },
     "execution_count": 5,
     "metadata": {},
     "output_type": "execute_result"
    }
   ],
   "source": [
    "# 여기에 정제된 문장을 모을겁니다\n",
    "corpus = []\n",
    "\n",
    "for sentence in raw_corpus:\n",
    "    if len(sentence) == 0: continue  # 길이가 0인 문장은 건너뜀 \n",
    "    \n",
    "    # 정제를 하고 담아주세요\n",
    "    preprocessed_sentence = preprocess_sentence(sentence)\n",
    "    corpus.append(preprocessed_sentence)\n",
    "        \n",
    "# 정제된 결과를 10개만 확인해보죠\n",
    "corpus[:10]"
   ]
  },
  {
   "cell_type": "code",
   "execution_count": 6,
   "id": "2e3196a7",
   "metadata": {},
   "outputs": [
    {
     "name": "stdout",
     "output_type": "stream",
     "text": [
      "[[   2   50    5 ...    0    0    0]\n",
      " [   2   17 2643 ...    0    0    0]\n",
      " [   2   35    7 ...   43    3    0]\n",
      " ...\n",
      " [   5   22    9 ...   10 1014    3]\n",
      " [  37   15 9061 ...  878  644    3]\n",
      " [   2    7   34 ...    0    0    0]] <keras_preprocessing.text.Tokenizer object at 0x7fa853501550>\n"
     ]
    }
   ],
   "source": [
    "def tokenize(corpus):\n",
    "    tokenizer = tf.keras.preprocessing.text.Tokenizer(\n",
    "        num_words=12000, \n",
    "        filters=' ',\n",
    "        oov_token=\"<unk>\"  # 12000단어에 포함되지 못한 단어는 '<unk>'로 바꿈\n",
    "    )\n",
    "    # corpus를 이용해 tokenizer 내부의 단어장을 완성합니다\n",
    "    tokenizer.fit_on_texts(corpus)\n",
    "    # 준비한 tokenizer를 이용해 corpus를 Tensor로 변환합니다\n",
    "    tensor = tokenizer.texts_to_sequences(corpus)   \n",
    "    # 입력 데이터의 시퀀스 길이를 일정하게 맞춰줍니다\n",
    "    # 만약 시퀀스가 짧다면 문장 뒤에 패딩을 붙여 길이를 맞춰줍니다.\n",
    "    # 문장 앞에 패딩을 붙여 길이를 맞추고 싶다면 padding='pre'를 사용합니다\n",
    "    # 토큰화 했을 때 토큰의 개수가 15개를 넘어가는 문장을 학습 데이터에서 제외\n",
    "    tensor = tf.keras.preprocessing.sequence.pad_sequences(tensor, padding='post', maxlen=15)\n",
    "    print(tensor,tokenizer)\n",
    "    return tensor, tokenizer\n",
    "\n",
    "tensor, tokenizer = tokenize(corpus)"
   ]
  },
  {
   "cell_type": "code",
   "execution_count": 7,
   "id": "0e31cca1",
   "metadata": {},
   "outputs": [
    {
     "name": "stdout",
     "output_type": "stream",
     "text": [
      "1 : <unk>\n",
      "2 : <start>\n",
      "3 : <end>\n",
      "4 : ,\n",
      "5 : i\n",
      "6 : the\n",
      "7 : you\n",
      "8 : and\n",
      "9 : a\n",
      "10 : to\n"
     ]
    }
   ],
   "source": [
    "for idx in tokenizer.index_word:\n",
    "    print(idx, \":\", tokenizer.index_word[idx])\n",
    "\n",
    "    if idx >= 10: break"
   ]
  },
  {
   "cell_type": "code",
   "execution_count": 8,
   "id": "369f423f",
   "metadata": {},
   "outputs": [
    {
     "name": "stdout",
     "output_type": "stream",
     "text": [
      "[   2   50    5   91  297   64   57    9  970 6048    3    0    0    0]\n",
      "[  50    5   91  297   64   57    9  970 6048    3    0    0    0    0]\n"
     ]
    }
   ],
   "source": [
    "# tensor에서 마지막 토큰을 잘라내서 소스 문장을 생성합니다\n",
    "# 마지막 토큰은 <end>가 아니라 <pad>일 가능성이 높습니다.\n",
    "src_input = tensor[:, :-1]  \n",
    "# tensor에서 <start>를 잘라내서 타겟 문장을 생성합니다.\n",
    "tgt_input = tensor[:, 1:]    \n",
    "\n",
    "print(src_input[0])\n",
    "print(tgt_input[0])"
   ]
  },
  {
   "cell_type": "markdown",
   "id": "2439465e",
   "metadata": {},
   "source": [
    "# 3. 평가 데이터셋 분리"
   ]
  },
  {
   "cell_type": "code",
   "execution_count": 9,
   "id": "8b52d990",
   "metadata": {},
   "outputs": [
    {
     "name": "stdout",
     "output_type": "stream",
     "text": [
      "Source Train: (140788, 14)\n",
      "Target Train: (140788, 14)\n"
     ]
    }
   ],
   "source": [
    "from sklearn.model_selection import train_test_split\n",
    "\n",
    "enc_train, enc_val, dec_train, dec_val = train_test_split(src_input, tgt_input, test_size = 0.2, random_state = 2)\n",
    "enc_val_train, enc_val_val, dec_val_train, dec_val_val = train_test_split(enc_train, dec_train, test_size = 0.125 , random_state = 2) \n",
    "\n",
    "print(\"Source Train:\", enc_train.shape)\n",
    "print(\"Target Train:\", dec_train.shape)"
   ]
  },
  {
   "cell_type": "code",
   "execution_count": 10,
   "id": "3e34c758",
   "metadata": {},
   "outputs": [
    {
     "data": {
      "text/plain": [
       "<BatchDataset shapes: ((128, 14), (128, 14)), types: (tf.int32, tf.int32)>"
      ]
     },
     "execution_count": 10,
     "metadata": {},
     "output_type": "execute_result"
    }
   ],
   "source": [
    "BUFFER_SIZE = len(enc_val_train)\n",
    "BATCH_SIZE = 128\n",
    "steps_per_epoch = BUFFER_SIZE // BATCH_SIZE\n",
    "\n",
    " # tokenizer가 구축한 단어사전 내 12000개와, 여기 포함되지 않은 0:<pad>를 포함하여 12001개\n",
    "VOCAB_SIZE = tokenizer.num_words + 1   \n",
    "\n",
    "# 준비한 데이터 소스로부터 데이터셋을 만듭니다\n",
    "# 데이터셋참고 (https://www.tensorflow.org/api_docs/python/tf/data/Dataset)\n",
    "dataset = tf.data.Dataset.from_tensor_slices((enc_train, dec_train))\n",
    "dataset = tf.data.Dataset.from_tensor_slices((enc_val_train, dec_val_train))\n",
    "dataset = dataset.shuffle(BUFFER_SIZE)\n",
    "dataset = dataset.batch(BATCH_SIZE, drop_remainder=True)\n",
    "dataset"
   ]
  },
  {
   "cell_type": "markdown",
   "id": "cfe5e30f",
   "metadata": {},
   "source": [
    "# 4. 인공지능 만들기"
   ]
  },
  {
   "cell_type": "code",
   "execution_count": 11,
   "id": "31d5ef2e",
   "metadata": {},
   "outputs": [],
   "source": [
    "class TextGenerator(tf.keras.Model):\n",
    "    def __init__(self, vocab_size, embedding_size, hidden_size):\n",
    "        super().__init__()\n",
    "        \n",
    "        self.embedding = tf.keras.layers.Embedding(vocab_size, embedding_size)\n",
    "        self.rnn_1 = tf.keras.layers.LSTM(hidden_size, return_sequences=True)\n",
    "        self.rnn_2 = tf.keras.layers.LSTM(hidden_size, return_sequences=True)\n",
    "        self.linear = tf.keras.layers.Dense(vocab_size)\n",
    "        \n",
    "    def call(self, x):\n",
    "        out = self.embedding(x)\n",
    "        out = self.rnn_1(out)\n",
    "        out = self.rnn_2(out)\n",
    "        out = self.linear(out)\n",
    "        \n",
    "        return out\n",
    "    \n",
    "embedding_size = 256  # feature 수\n",
    "hidden_size = 2048  # 퍼셉트론 개수\n",
    "model = TextGenerator(tokenizer.num_words + 1, embedding_size , hidden_size)"
   ]
  },
  {
   "cell_type": "code",
   "execution_count": 12,
   "id": "98add834",
   "metadata": {},
   "outputs": [
    {
     "data": {
      "text/plain": [
       "<tf.Tensor: shape=(128, 14, 12001), dtype=float32, numpy=\n",
       "array([[[-1.28711443e-04, -4.79533337e-04, -2.68546737e-05, ...,\n",
       "          1.03763552e-04,  9.13923723e-05,  5.12129591e-05],\n",
       "        [-2.48699391e-04, -5.69290540e-04, -1.16308314e-04, ...,\n",
       "          2.89717340e-04,  1.31284367e-04, -7.91730126e-05],\n",
       "        [-5.44108392e-04, -7.00511388e-04, -2.75399507e-04, ...,\n",
       "          3.65795102e-04,  1.88443664e-04, -4.68062586e-04],\n",
       "        ...,\n",
       "        [-8.78730032e-04, -1.90547307e-03, -5.74779580e-04, ...,\n",
       "          1.34141257e-04,  1.77736292e-05, -2.08897865e-04],\n",
       "        [-5.62547240e-04, -2.09253561e-03, -6.52447401e-04, ...,\n",
       "          1.83196680e-04, -1.11223191e-04,  1.19492855e-04],\n",
       "        [-2.39469649e-04, -2.19470216e-03, -7.00627221e-04, ...,\n",
       "          2.44829775e-04, -2.67036608e-04,  4.41851123e-04]],\n",
       "\n",
       "       [[-1.28711443e-04, -4.79533337e-04, -2.68546737e-05, ...,\n",
       "          1.03763552e-04,  9.13923723e-05,  5.12129591e-05],\n",
       "        [-4.23527585e-04, -5.03902964e-04,  1.38684423e-04, ...,\n",
       "          1.73305252e-05,  9.08754737e-05,  4.00942590e-05],\n",
       "        [-5.02840907e-04, -7.05200597e-04,  1.03106424e-04, ...,\n",
       "          1.85222045e-04, -4.14949973e-05,  6.82546961e-05],\n",
       "        ...,\n",
       "        [-7.92180654e-04, -4.88564183e-05,  3.15912126e-04, ...,\n",
       "          9.83731006e-04, -2.15448861e-04,  2.02996409e-04],\n",
       "        [-6.22204971e-04, -2.13854873e-04,  2.73893937e-04, ...,\n",
       "          1.00450765e-03, -2.52155587e-04,  2.59937195e-04],\n",
       "        [-3.21284868e-04, -5.03278570e-04,  1.82120784e-04, ...,\n",
       "          8.96268699e-04, -3.22406413e-04,  4.55011585e-04]],\n",
       "\n",
       "       [[-1.28711443e-04, -4.79533337e-04, -2.68546737e-05, ...,\n",
       "          1.03763552e-04,  9.13923723e-05,  5.12129591e-05],\n",
       "        [-3.35388409e-04, -7.48273160e-04, -1.51334054e-04, ...,\n",
       "         -1.76269838e-04,  1.39407042e-04,  1.86749792e-04],\n",
       "        [-4.33906593e-04, -6.85128442e-04, -1.99204165e-04, ...,\n",
       "         -3.26009729e-04,  1.58338924e-04,  2.19731563e-04],\n",
       "        ...,\n",
       "        [-1.55027636e-04, -1.07201783e-03, -1.34551490e-04, ...,\n",
       "          5.60838322e-04,  1.80138304e-04,  1.22366197e-04],\n",
       "        [ 1.99155416e-04, -1.37791119e-03, -1.48448060e-04, ...,\n",
       "          5.81982487e-04,  1.14384384e-05,  3.82849888e-04],\n",
       "        [ 5.31464699e-04, -1.60516973e-03, -1.72436688e-04, ...,\n",
       "          6.06026908e-04, -1.67096485e-04,  6.73483359e-04]],\n",
       "\n",
       "       ...,\n",
       "\n",
       "       [[-1.28711443e-04, -4.79533337e-04, -2.68546737e-05, ...,\n",
       "          1.03763552e-04,  9.13923723e-05,  5.12129591e-05],\n",
       "        [ 2.96795006e-05, -6.89273758e-04, -3.46314810e-05, ...,\n",
       "          1.95475863e-04,  1.60897442e-04, -3.19180908e-05],\n",
       "        [ 2.34133404e-04, -7.56667287e-04, -1.89355938e-04, ...,\n",
       "          1.71997322e-04,  1.76373680e-04, -2.86296709e-04],\n",
       "        ...,\n",
       "        [ 1.08492351e-03, -1.49484770e-03,  4.84148295e-05, ...,\n",
       "          8.68536648e-04, -8.07881515e-05,  8.05718591e-05],\n",
       "        [ 1.25397707e-03, -1.63827359e-03, -7.79627298e-05, ...,\n",
       "          8.25502677e-04, -2.50757032e-04,  4.24072932e-04],\n",
       "        [ 1.41864794e-03, -1.71544810e-03, -1.87138008e-04, ...,\n",
       "          8.13703460e-04, -4.18502779e-04,  7.48236547e-04]],\n",
       "\n",
       "       [[-1.28711443e-04, -4.79533337e-04, -2.68546737e-05, ...,\n",
       "          1.03763552e-04,  9.13923723e-05,  5.12129591e-05],\n",
       "        [-1.14513068e-05, -7.80438597e-04, -1.50652239e-04, ...,\n",
       "          4.14713024e-04, -5.24522511e-05, -6.42958839e-05],\n",
       "        [-4.36884351e-04, -1.26573991e-03, -1.21700352e-04, ...,\n",
       "          4.19067539e-04, -1.07163767e-04, -1.57236660e-04],\n",
       "        ...,\n",
       "        [-6.78862678e-04, -3.69169895e-04,  1.37087249e-03, ...,\n",
       "          1.15771568e-03, -2.87850067e-04, -1.01200666e-03],\n",
       "        [-5.16944332e-04, -6.15996891e-04,  1.15771731e-03, ...,\n",
       "          1.08607742e-03, -3.15938843e-04, -6.86638756e-04],\n",
       "        [-3.07570561e-04, -8.22908420e-04,  9.26802459e-04, ...,\n",
       "          1.01221015e-03, -3.65073938e-04, -3.18853097e-04]],\n",
       "\n",
       "       [[-1.28711443e-04, -4.79533337e-04, -2.68546737e-05, ...,\n",
       "          1.03763552e-04,  9.13923723e-05,  5.12129591e-05],\n",
       "        [-3.11309559e-04, -8.81093496e-04, -5.56259547e-05, ...,\n",
       "          3.52623407e-04,  2.14443557e-04, -2.15538807e-04],\n",
       "        [-2.67723080e-04, -1.13600725e-03, -1.27229461e-04, ...,\n",
       "          4.68205137e-04,  4.99574177e-04, -3.57910671e-04],\n",
       "        ...,\n",
       "        [ 1.01077370e-03, -7.57047746e-05,  3.25587782e-04, ...,\n",
       "          4.74802859e-04, -8.90135358e-04, -1.48491072e-03],\n",
       "        [ 7.97639252e-04, -1.35277543e-04,  5.86849696e-04, ...,\n",
       "          5.15677384e-04, -8.40025139e-04, -1.15829194e-03],\n",
       "        [ 6.59900368e-04, -2.23348339e-04,  7.79466878e-04, ...,\n",
       "          7.63445685e-04, -7.09541317e-04, -1.20494724e-03]]],\n",
       "      dtype=float32)>"
      ]
     },
     "execution_count": 12,
     "metadata": {},
     "output_type": "execute_result"
    }
   ],
   "source": [
    "# 데이터셋에서 데이터 한 배치만 불러오는 방법\n",
    "for src_sample, tgt_sample in dataset.take(1): break\n",
    "\n",
    "# 한 배치만 불러온 데이터를 모델에 넣어봅니다\n",
    "model(src_sample)"
   ]
  },
  {
   "cell_type": "code",
   "execution_count": 13,
   "id": "4a32c039",
   "metadata": {},
   "outputs": [
    {
     "name": "stdout",
     "output_type": "stream",
     "text": [
      "Model: \"text_generator\"\n",
      "_________________________________________________________________\n",
      "Layer (type)                 Output Shape              Param #   \n",
      "=================================================================\n",
      "embedding (Embedding)        multiple                  3072256   \n",
      "_________________________________________________________________\n",
      "lstm (LSTM)                  multiple                  18882560  \n",
      "_________________________________________________________________\n",
      "lstm_1 (LSTM)                multiple                  33562624  \n",
      "_________________________________________________________________\n",
      "dense (Dense)                multiple                  24590049  \n",
      "=================================================================\n",
      "Total params: 80,107,489\n",
      "Trainable params: 80,107,489\n",
      "Non-trainable params: 0\n",
      "_________________________________________________________________\n"
     ]
    }
   ],
   "source": [
    "model.summary()"
   ]
  },
  {
   "cell_type": "code",
   "execution_count": 14,
   "id": "2b7e3225",
   "metadata": {},
   "outputs": [
    {
     "name": "stdout",
     "output_type": "stream",
     "text": [
      "Epoch 1/10\n",
      "1100/1100 [==============================] - 291s 260ms/step - loss: 3.3574 - val_loss: 2.8827\n",
      "Epoch 2/10\n",
      "1100/1100 [==============================] - 299s 272ms/step - loss: 2.7565 - val_loss: 2.4023\n",
      "Epoch 3/10\n",
      "1100/1100 [==============================] - 299s 272ms/step - loss: 2.3516 - val_loss: 1.9761\n",
      "Epoch 4/10\n",
      "1100/1100 [==============================] - 300s 273ms/step - loss: 1.9754 - val_loss: 1.6234\n",
      "Epoch 5/10\n",
      "1100/1100 [==============================] - 300s 272ms/step - loss: 1.6506 - val_loss: 1.3575\n",
      "Epoch 6/10\n",
      "1100/1100 [==============================] - 300s 272ms/step - loss: 1.3968 - val_loss: 1.1615\n",
      "Epoch 7/10\n",
      "1100/1100 [==============================] - 300s 273ms/step - loss: 1.2077 - val_loss: 1.0367\n",
      "Epoch 8/10\n",
      "1100/1100 [==============================] - 300s 273ms/step - loss: 1.0832 - val_loss: 0.9594\n",
      "Epoch 9/10\n",
      "1100/1100 [==============================] - 299s 272ms/step - loss: 1.0113 - val_loss: 0.9194\n",
      "Epoch 10/10\n",
      "1100/1100 [==============================] - 300s 273ms/step - loss: 0.9746 - val_loss: 0.8984\n"
     ]
    },
    {
     "data": {
      "text/plain": [
       "<keras.callbacks.History at 0x7fa7a80d3430>"
      ]
     },
     "execution_count": 14,
     "metadata": {},
     "output_type": "execute_result"
    }
   ],
   "source": [
    "optimizer = tf.keras.optimizers.Adam()\n",
    "loss = tf.keras.losses.SparseCategoricalCrossentropy(\n",
    "    from_logits=True,\n",
    "    reduction='none'\n",
    ")\n",
    "\n",
    "model.compile(loss=loss, optimizer=optimizer)\n",
    "model.fit(x = enc_train, y = dec_train, epochs=10, batch_size=128, validation_data = (enc_val_val, dec_val_val))"
   ]
  },
  {
   "cell_type": "code",
   "execution_count": 15,
   "id": "0a52d8b3",
   "metadata": {},
   "outputs": [],
   "source": [
    "def generate_text(model, tokenizer, init_sentence=\"<start>\", max_len=15):\n",
    "    # 테스트를 위해서 입력받은 init_sentence도 텐서로 변환합니다\n",
    "    test_input = tokenizer.texts_to_sequences([init_sentence])\n",
    "    test_tensor = tf.convert_to_tensor(test_input, dtype=tf.int64)\n",
    "    end_token = tokenizer.word_index[\"<end>\"]\n",
    "\n",
    "    # 단어 하나씩 예측해 문장을 만듭니다\n",
    "    #    1. 입력받은 문장의 텐서를 입력합니다\n",
    "    #    2. 예측된 값 중 가장 높은 확률인 word index를 뽑아냅니다\n",
    "    #    3. 2에서 예측된 word index를 문장 뒤에 붙입니다\n",
    "    #    4. 모델이 <end>를 예측했거나, max_len에 도달했다면 문장 생성을 마칩니다\n",
    "    while True:\n",
    "        # 1\n",
    "        predict = model(test_tensor) \n",
    "        # 2\n",
    "        predict_word = tf.argmax(tf.nn.softmax(predict, axis=-1), axis=-1)[:, -1] \n",
    "        # 3 \n",
    "        test_tensor = tf.concat([test_tensor, tf.expand_dims(predict_word, axis=0)], axis=-1)\n",
    "        # 4\n",
    "        if predict_word.numpy()[0] == end_token: break\n",
    "        if test_tensor.shape[1] >= max_len: break\n",
    "\n",
    "    generated = \"\"\n",
    "    # tokenizer를 이용해 word index를 단어로 하나씩 변환합니다 \n",
    "    for word_index in test_tensor[0].numpy():\n",
    "        generated += tokenizer.index_word[word_index] + \" \"\n",
    "\n",
    "    return generated"
   ]
  },
  {
   "cell_type": "code",
   "execution_count": 19,
   "id": "d144bb37",
   "metadata": {},
   "outputs": [],
   "source": [
    "loss = tf.keras.losses.SparseCategoricalCrossentropy(\n",
    "    from_logits=True, reduction='none')"
   ]
  },
  {
   "cell_type": "code",
   "execution_count": 22,
   "id": "49018602",
   "metadata": {},
   "outputs": [
    {
     "data": {
      "text/plain": [
       "'<start> i love you <end> '"
      ]
     },
     "execution_count": 22,
     "metadata": {},
     "output_type": "execute_result"
    }
   ],
   "source": [
    "generate_text(model, tokenizer, init_sentence=\"<start> i love\", max_len=20)"
   ]
  },
  {
   "cell_type": "markdown",
   "id": "72689211",
   "metadata": {},
   "source": [
    "# 회고\n",
    "자연어 처리를 경험해보는 좋은 기회가 되었다. 하이퍼 파라미터등 여러가지를 바꾸어 보면서 시도해보면서 많이 배우게 된 프로젝트였다."
   ]
  }
 ],
 "metadata": {
  "kernelspec": {
   "display_name": "Python 3 (ipykernel)",
   "language": "python",
   "name": "python3"
  },
  "language_info": {
   "codemirror_mode": {
    "name": "ipython",
    "version": 3
   },
   "file_extension": ".py",
   "mimetype": "text/x-python",
   "name": "python",
   "nbconvert_exporter": "python",
   "pygments_lexer": "ipython3",
   "version": "3.9.7"
  }
 },
 "nbformat": 4,
 "nbformat_minor": 5
}
